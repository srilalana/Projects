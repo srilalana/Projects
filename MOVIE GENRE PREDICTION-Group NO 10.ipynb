{
 "cells": [
  {
   "cell_type": "markdown",
   "metadata": {},
   "source": [
    "# Group No: 10 "
   ]
  },
  {
   "cell_type": "markdown",
   "metadata": {},
   "source": [
    "# Participants List: \n",
    "# 1.  Sri Lalana \n",
    "# 2.  Parsis Presswala \n",
    "# 3.  Trapti Khandelwal "
   ]
  },
  {
   "cell_type": "markdown",
   "metadata": {},
   "source": [
    "# Problem Statement: This model can used to classify the genre based on the movie plot which helps the audience to make choices accordingly"
   ]
  },
  {
   "cell_type": "code",
   "execution_count": 1,
   "metadata": {},
   "outputs": [],
   "source": [
    "import pandas as pd\n",
    "import numpy as np\n",
    "import matplotlib.pyplot as plt\n",
    "%matplotlib inline"
   ]
  },
  {
   "cell_type": "code",
   "execution_count": 2,
   "metadata": {},
   "outputs": [
    {
     "data": {
      "text/html": [
       "<div>\n",
       "<style scoped>\n",
       "    .dataframe tbody tr th:only-of-type {\n",
       "        vertical-align: middle;\n",
       "    }\n",
       "\n",
       "    .dataframe tbody tr th {\n",
       "        vertical-align: top;\n",
       "    }\n",
       "\n",
       "    .dataframe thead th {\n",
       "        text-align: right;\n",
       "    }\n",
       "</style>\n",
       "<table border=\"1\" class=\"dataframe\">\n",
       "  <thead>\n",
       "    <tr style=\"text-align: right;\">\n",
       "      <th></th>\n",
       "      <th>Title</th>\n",
       "      <th>Genre</th>\n",
       "      <th>Synopsis</th>\n",
       "      <th>Year</th>\n",
       "      <th>Duration</th>\n",
       "      <th>Caste</th>\n",
       "      <th>Rating</th>\n",
       "      <th>Language</th>\n",
       "    </tr>\n",
       "  </thead>\n",
       "  <tbody>\n",
       "    <tr>\n",
       "      <td>0</td>\n",
       "      <td>The Shawshank Redemption</td>\n",
       "      <td>Drama</td>\n",
       "      <td>Two imprisoned men bond over a number of years...</td>\n",
       "      <td>1994</td>\n",
       "      <td>142 min</td>\n",
       "      <td>Tim Robbins, Morgan Freeman, Bob Gunton, Willi...</td>\n",
       "      <td>9.3</td>\n",
       "      <td>English</td>\n",
       "    </tr>\n",
       "    <tr>\n",
       "      <td>1</td>\n",
       "      <td>The Dark Knight</td>\n",
       "      <td>Action, Crime, Drama</td>\n",
       "      <td>When the menace known as the Joker wreaks havo...</td>\n",
       "      <td>2008</td>\n",
       "      <td>152 min</td>\n",
       "      <td>Christian Bale, Heath Ledger, Aaron Eckhart, M...</td>\n",
       "      <td>9.0</td>\n",
       "      <td>English</td>\n",
       "    </tr>\n",
       "    <tr>\n",
       "      <td>2</td>\n",
       "      <td>Inception</td>\n",
       "      <td>Action, Adventure, Sci-Fi</td>\n",
       "      <td>A thief who steals corporate secrets through t...</td>\n",
       "      <td>2010</td>\n",
       "      <td>148 min</td>\n",
       "      <td>Leonardo DiCaprio, Joseph Gordon-Levitt, Ellen...</td>\n",
       "      <td>8.8</td>\n",
       "      <td>English</td>\n",
       "    </tr>\n",
       "    <tr>\n",
       "      <td>3</td>\n",
       "      <td>Fight Club</td>\n",
       "      <td>Drama</td>\n",
       "      <td>An insomniac office worker and a devil-may-car...</td>\n",
       "      <td>1999</td>\n",
       "      <td>139 min</td>\n",
       "      <td>Brad Pitt, Edward Norton, Meat Loaf, Zach Grenier</td>\n",
       "      <td>8.8</td>\n",
       "      <td>English</td>\n",
       "    </tr>\n",
       "    <tr>\n",
       "      <td>4</td>\n",
       "      <td>Pulp Fiction</td>\n",
       "      <td>Crime, Drama</td>\n",
       "      <td>The lives of two mob hitmen, a boxer, a gangst...</td>\n",
       "      <td>1994</td>\n",
       "      <td>154 min</td>\n",
       "      <td>John Travolta, Uma Thurman, Samuel L. Jackson,...</td>\n",
       "      <td>8.9</td>\n",
       "      <td>English</td>\n",
       "    </tr>\n",
       "  </tbody>\n",
       "</table>\n",
       "</div>"
      ],
      "text/plain": [
       "                      Title                      Genre  \\\n",
       "0  The Shawshank Redemption                      Drama   \n",
       "1           The Dark Knight       Action, Crime, Drama   \n",
       "2                 Inception  Action, Adventure, Sci-Fi   \n",
       "3                Fight Club                      Drama   \n",
       "4              Pulp Fiction               Crime, Drama   \n",
       "\n",
       "                                            Synopsis  Year Duration  \\\n",
       "0  Two imprisoned men bond over a number of years...  1994  142 min   \n",
       "1  When the menace known as the Joker wreaks havo...  2008  152 min   \n",
       "2  A thief who steals corporate secrets through t...  2010  148 min   \n",
       "3  An insomniac office worker and a devil-may-car...  1999  139 min   \n",
       "4  The lives of two mob hitmen, a boxer, a gangst...  1994  154 min   \n",
       "\n",
       "                                               Caste  Rating Language  \n",
       "0  Tim Robbins, Morgan Freeman, Bob Gunton, Willi...     9.3  English  \n",
       "1  Christian Bale, Heath Ledger, Aaron Eckhart, M...     9.0  English  \n",
       "2  Leonardo DiCaprio, Joseph Gordon-Levitt, Ellen...     8.8  English  \n",
       "3  Brad Pitt, Edward Norton, Meat Loaf, Zach Grenier     8.8  English  \n",
       "4  John Travolta, Uma Thurman, Samuel L. Jackson,...     8.9  English  "
      ]
     },
     "execution_count": 2,
     "metadata": {},
     "output_type": "execute_result"
    }
   ],
   "source": [
    "df = pd.read_excel(\"movies_project_final.xls\")\n",
    "df.head(5)"
   ]
  },
  {
   "cell_type": "code",
   "execution_count": 3,
   "metadata": {},
   "outputs": [
    {
     "name": "stdout",
     "output_type": "stream",
     "text": [
      "<class 'pandas.core.frame.DataFrame'>\n",
      "RangeIndex: 5596 entries, 0 to 5595\n",
      "Data columns (total 8 columns):\n",
      "Title       5596 non-null object\n",
      "Genre       4643 non-null object\n",
      "Synopsis    5594 non-null object\n",
      "Year        5000 non-null object\n",
      "Duration    5000 non-null object\n",
      "Caste       4996 non-null object\n",
      "Rating      5000 non-null float64\n",
      "Language    5000 non-null object\n",
      "dtypes: float64(1), object(7)\n",
      "memory usage: 349.9+ KB\n"
     ]
    }
   ],
   "source": [
    "df.info()"
   ]
  },
  {
   "cell_type": "code",
   "execution_count": 4,
   "metadata": {},
   "outputs": [
    {
     "data": {
      "text/plain": [
       "Title         0\n",
       "Genre       953\n",
       "Synopsis      2\n",
       "Year        596\n",
       "Duration    596\n",
       "Caste       600\n",
       "Rating      596\n",
       "Language    596\n",
       "dtype: int64"
      ]
     },
     "execution_count": 4,
     "metadata": {},
     "output_type": "execute_result"
    }
   ],
   "source": [
    "df.isnull().sum()"
   ]
  },
  {
   "cell_type": "code",
   "execution_count": 5,
   "metadata": {},
   "outputs": [
    {
     "data": {
      "text/plain": [
       "(5596, 8)"
      ]
     },
     "execution_count": 5,
     "metadata": {},
     "output_type": "execute_result"
    }
   ],
   "source": [
    "df.shape"
   ]
  },
  {
   "cell_type": "code",
   "execution_count": 6,
   "metadata": {},
   "outputs": [
    {
     "data": {
      "text/plain": [
       "Title         0\n",
       "Genre       953\n",
       "Synopsis      0\n",
       "Year        594\n",
       "Duration    594\n",
       "Caste       598\n",
       "Rating      594\n",
       "Language    594\n",
       "dtype: int64"
      ]
     },
     "execution_count": 6,
     "metadata": {},
     "output_type": "execute_result"
    }
   ],
   "source": [
    "df = df[pd.notnull(df['Synopsis'])]\n",
    "df.isnull().sum()"
   ]
  },
  {
   "cell_type": "code",
   "execution_count": 7,
   "metadata": {},
   "outputs": [
    {
     "data": {
      "text/plain": [
       "Title         0\n",
       "Genre         0\n",
       "Synopsis      0\n",
       "Year        594\n",
       "Duration    594\n",
       "Caste       597\n",
       "Rating      594\n",
       "Language    594\n",
       "dtype: int64"
      ]
     },
     "execution_count": 7,
     "metadata": {},
     "output_type": "execute_result"
    }
   ],
   "source": [
    "df = df[pd.notnull(df['Genre'])]\n",
    "df.isnull().sum()"
   ]
  },
  {
   "cell_type": "code",
   "execution_count": 8,
   "metadata": {},
   "outputs": [
    {
     "data": {
      "text/plain": [
       "(4641, 8)"
      ]
     },
     "execution_count": 8,
     "metadata": {},
     "output_type": "execute_result"
    }
   ],
   "source": [
    "df.shape"
   ]
  },
  {
   "cell_type": "code",
   "execution_count": 9,
   "metadata": {},
   "outputs": [],
   "source": [
    "import nltk\n",
    "import re\n",
    "import seaborn as sns\n",
    "from tqdm import tqdm\n",
    "from sklearn.feature_extraction.text import TfidfVectorizer\n",
    "from sklearn.model_selection import train_test_split\n",
    "\n",
    "pd.set_option('display.max_colwidth', 300)"
   ]
  },
  {
   "cell_type": "code",
   "execution_count": 10,
   "metadata": {},
   "outputs": [
    {
     "name": "stderr",
     "output_type": "stream",
     "text": [
      "[nltk_data] Downloading package stopwords to\n",
      "[nltk_data]     C:\\Users\\parsi\\AppData\\Roaming\\nltk_data...\n",
      "[nltk_data]   Package stopwords is already up-to-date!\n",
      "[nltk_data] Downloading package averaged_perceptron_tagger to\n",
      "[nltk_data]     C:\\Users\\parsi\\AppData\\Roaming\\nltk_data...\n",
      "[nltk_data]   Package averaged_perceptron_tagger is already up-to-\n",
      "[nltk_data]       date!\n",
      "[nltk_data] Downloading package wordnet to\n",
      "[nltk_data]     C:\\Users\\parsi\\AppData\\Roaming\\nltk_data...\n",
      "[nltk_data]   Package wordnet is already up-to-date!\n"
     ]
    },
    {
     "data": {
      "text/plain": [
       "True"
      ]
     },
     "execution_count": 10,
     "metadata": {},
     "output_type": "execute_result"
    }
   ],
   "source": [
    "import warnings\n",
    "warnings.filterwarnings(\"ignore\")\n",
    "nltk.download('stopwords')\n",
    "nltk.download('averaged_perceptron_tagger')\n",
    "nltk.download('wordnet')"
   ]
  },
  {
   "cell_type": "code",
   "execution_count": 11,
   "metadata": {},
   "outputs": [
    {
     "data": {
      "text/html": [
       "<div>\n",
       "<style scoped>\n",
       "    .dataframe tbody tr th:only-of-type {\n",
       "        vertical-align: middle;\n",
       "    }\n",
       "\n",
       "    .dataframe tbody tr th {\n",
       "        vertical-align: top;\n",
       "    }\n",
       "\n",
       "    .dataframe thead th {\n",
       "        text-align: right;\n",
       "    }\n",
       "</style>\n",
       "<table border=\"1\" class=\"dataframe\">\n",
       "  <thead>\n",
       "    <tr style=\"text-align: right;\">\n",
       "      <th></th>\n",
       "      <th>Title</th>\n",
       "      <th>Genre</th>\n",
       "      <th>Synopsis</th>\n",
       "      <th>Year</th>\n",
       "      <th>Duration</th>\n",
       "      <th>Caste</th>\n",
       "      <th>Rating</th>\n",
       "      <th>Language</th>\n",
       "    </tr>\n",
       "  </thead>\n",
       "  <tbody>\n",
       "    <tr>\n",
       "      <td>0</td>\n",
       "      <td>The Shawshank Redemption</td>\n",
       "      <td>Drama</td>\n",
       "      <td>Two imprisoned men bond over a number of years, finding solace and eventual redemption through acts of common decency.</td>\n",
       "      <td>1994</td>\n",
       "      <td>142 min</td>\n",
       "      <td>Tim Robbins, Morgan Freeman, Bob Gunton, William Sadler</td>\n",
       "      <td>9.3</td>\n",
       "      <td>English</td>\n",
       "    </tr>\n",
       "    <tr>\n",
       "      <td>1</td>\n",
       "      <td>The Dark Knight</td>\n",
       "      <td>Action, Crime, Drama</td>\n",
       "      <td>When the menace known as the Joker wreaks havoc and chaos on the people of Gotham, Batman must accept one of the greatest psychological and physical tests of his ability to fight injustice.</td>\n",
       "      <td>2008</td>\n",
       "      <td>152 min</td>\n",
       "      <td>Christian Bale, Heath Ledger, Aaron Eckhart, Michael Caine</td>\n",
       "      <td>9.0</td>\n",
       "      <td>English</td>\n",
       "    </tr>\n",
       "    <tr>\n",
       "      <td>2</td>\n",
       "      <td>Inception</td>\n",
       "      <td>Action, Adventure, Sci-Fi</td>\n",
       "      <td>A thief who steals corporate secrets through the use of dream-sharing technology is given the inverse task of planting an idea into the mind of a C.E.O.</td>\n",
       "      <td>2010</td>\n",
       "      <td>148 min</td>\n",
       "      <td>Leonardo DiCaprio, Joseph Gordon-Levitt, Ellen Page, Ken Watanabe</td>\n",
       "      <td>8.8</td>\n",
       "      <td>English</td>\n",
       "    </tr>\n",
       "    <tr>\n",
       "      <td>3</td>\n",
       "      <td>Fight Club</td>\n",
       "      <td>Drama</td>\n",
       "      <td>An insomniac office worker and a devil-may-care soapmaker form an underground fight club that evolves into something much, much more.</td>\n",
       "      <td>1999</td>\n",
       "      <td>139 min</td>\n",
       "      <td>Brad Pitt, Edward Norton, Meat Loaf, Zach Grenier</td>\n",
       "      <td>8.8</td>\n",
       "      <td>English</td>\n",
       "    </tr>\n",
       "    <tr>\n",
       "      <td>4</td>\n",
       "      <td>Pulp Fiction</td>\n",
       "      <td>Crime, Drama</td>\n",
       "      <td>The lives of two mob hitmen, a boxer, a gangster and his wife, and a pair of diner bandits intertwine in four tales of violence and redemption.</td>\n",
       "      <td>1994</td>\n",
       "      <td>154 min</td>\n",
       "      <td>John Travolta, Uma Thurman, Samuel L. Jackson, Bruce Willis</td>\n",
       "      <td>8.9</td>\n",
       "      <td>English</td>\n",
       "    </tr>\n",
       "  </tbody>\n",
       "</table>\n",
       "</div>"
      ],
      "text/plain": [
       "                      Title                      Genre  \\\n",
       "0  The Shawshank Redemption                      Drama   \n",
       "1           The Dark Knight       Action, Crime, Drama   \n",
       "2                 Inception  Action, Adventure, Sci-Fi   \n",
       "3                Fight Club                      Drama   \n",
       "4              Pulp Fiction               Crime, Drama   \n",
       "\n",
       "                                                                                                                                                                                        Synopsis  \\\n",
       "0                                                                         Two imprisoned men bond over a number of years, finding solace and eventual redemption through acts of common decency.   \n",
       "1  When the menace known as the Joker wreaks havoc and chaos on the people of Gotham, Batman must accept one of the greatest psychological and physical tests of his ability to fight injustice.   \n",
       "2                                       A thief who steals corporate secrets through the use of dream-sharing technology is given the inverse task of planting an idea into the mind of a C.E.O.   \n",
       "3                                                          An insomniac office worker and a devil-may-care soapmaker form an underground fight club that evolves into something much, much more.   \n",
       "4                                                The lives of two mob hitmen, a boxer, a gangster and his wife, and a pair of diner bandits intertwine in four tales of violence and redemption.   \n",
       "\n",
       "   Year Duration  \\\n",
       "0  1994  142 min   \n",
       "1  2008  152 min   \n",
       "2  2010  148 min   \n",
       "3  1999  139 min   \n",
       "4  1994  154 min   \n",
       "\n",
       "                                                               Caste  Rating  \\\n",
       "0            Tim Robbins, Morgan Freeman, Bob Gunton, William Sadler     9.3   \n",
       "1         Christian Bale, Heath Ledger, Aaron Eckhart, Michael Caine     9.0   \n",
       "2  Leonardo DiCaprio, Joseph Gordon-Levitt, Ellen Page, Ken Watanabe     8.8   \n",
       "3                  Brad Pitt, Edward Norton, Meat Loaf, Zach Grenier     8.8   \n",
       "4        John Travolta, Uma Thurman, Samuel L. Jackson, Bruce Willis     8.9   \n",
       "\n",
       "  Language  \n",
       "0  English  \n",
       "1  English  \n",
       "2  English  \n",
       "3  English  \n",
       "4  English  "
      ]
     },
     "execution_count": 11,
     "metadata": {},
     "output_type": "execute_result"
    }
   ],
   "source": [
    "df.head()"
   ]
  },
  {
   "cell_type": "raw",
   "metadata": {},
   "source": [
    "genres = [] \n",
    "\n",
    "# extract genres\n",
    "for i in df['Genre']:\n",
    "    s = i.split(\",\")\n",
    "    for j in s:\n",
    "        genres.append(j.strip()) \n",
    "\n",
    "len(set(genres))"
   ]
  },
  {
   "cell_type": "code",
   "execution_count": 12,
   "metadata": {},
   "outputs": [
    {
     "data": {
      "text/plain": [
       "0                           [Drama]\n",
       "1            [Action, Crime, Drama]\n",
       "2       [Action, Adventure, Sci-Fi]\n",
       "3                           [Drama]\n",
       "4                    [Crime, Drama]\n",
       "                   ...             \n",
       "5591                        [Drama]\n",
       "5592     [Drama, Mystery, Thriller]\n",
       "5593              [Drama, Thriller]\n",
       "5594              [Crime, Thriller]\n",
       "5595                [Comedy, Drama]\n",
       "Name: genre_new, Length: 4641, dtype: object"
      ]
     },
     "execution_count": 12,
     "metadata": {},
     "output_type": "execute_result"
    }
   ],
   "source": [
    "genres = [] \n",
    "\n",
    "# extract genres\n",
    "for i in df['Genre']:\n",
    "    s = [x.strip() for x in i.split(',')]    \n",
    "    genres.append(s) \n",
    "      \n",
    "df['genre_new'] = genres\n",
    "df['genre_new']"
   ]
  },
  {
   "cell_type": "code",
   "execution_count": 13,
   "metadata": {},
   "outputs": [
    {
     "data": {
      "text/html": [
       "<div>\n",
       "<style scoped>\n",
       "    .dataframe tbody tr th:only-of-type {\n",
       "        vertical-align: middle;\n",
       "    }\n",
       "\n",
       "    .dataframe tbody tr th {\n",
       "        vertical-align: top;\n",
       "    }\n",
       "\n",
       "    .dataframe thead th {\n",
       "        text-align: right;\n",
       "    }\n",
       "</style>\n",
       "<table border=\"1\" class=\"dataframe\">\n",
       "  <thead>\n",
       "    <tr style=\"text-align: right;\">\n",
       "      <th></th>\n",
       "      <th>Title</th>\n",
       "      <th>Genre</th>\n",
       "      <th>Synopsis</th>\n",
       "      <th>Year</th>\n",
       "      <th>Duration</th>\n",
       "      <th>Caste</th>\n",
       "      <th>Rating</th>\n",
       "      <th>Language</th>\n",
       "      <th>genre_new</th>\n",
       "    </tr>\n",
       "  </thead>\n",
       "  <tbody>\n",
       "    <tr>\n",
       "      <td>0</td>\n",
       "      <td>The Shawshank Redemption</td>\n",
       "      <td>Drama</td>\n",
       "      <td>Two imprisoned men bond over a number of years, finding solace and eventual redemption through acts of common decency.</td>\n",
       "      <td>1994</td>\n",
       "      <td>142 min</td>\n",
       "      <td>Tim Robbins, Morgan Freeman, Bob Gunton, William Sadler</td>\n",
       "      <td>9.3</td>\n",
       "      <td>English</td>\n",
       "      <td>[Drama]</td>\n",
       "    </tr>\n",
       "    <tr>\n",
       "      <td>1</td>\n",
       "      <td>The Dark Knight</td>\n",
       "      <td>Action, Crime, Drama</td>\n",
       "      <td>When the menace known as the Joker wreaks havoc and chaos on the people of Gotham, Batman must accept one of the greatest psychological and physical tests of his ability to fight injustice.</td>\n",
       "      <td>2008</td>\n",
       "      <td>152 min</td>\n",
       "      <td>Christian Bale, Heath Ledger, Aaron Eckhart, Michael Caine</td>\n",
       "      <td>9.0</td>\n",
       "      <td>English</td>\n",
       "      <td>[Action, Crime, Drama]</td>\n",
       "    </tr>\n",
       "    <tr>\n",
       "      <td>2</td>\n",
       "      <td>Inception</td>\n",
       "      <td>Action, Adventure, Sci-Fi</td>\n",
       "      <td>A thief who steals corporate secrets through the use of dream-sharing technology is given the inverse task of planting an idea into the mind of a C.E.O.</td>\n",
       "      <td>2010</td>\n",
       "      <td>148 min</td>\n",
       "      <td>Leonardo DiCaprio, Joseph Gordon-Levitt, Ellen Page, Ken Watanabe</td>\n",
       "      <td>8.8</td>\n",
       "      <td>English</td>\n",
       "      <td>[Action, Adventure, Sci-Fi]</td>\n",
       "    </tr>\n",
       "    <tr>\n",
       "      <td>3</td>\n",
       "      <td>Fight Club</td>\n",
       "      <td>Drama</td>\n",
       "      <td>An insomniac office worker and a devil-may-care soapmaker form an underground fight club that evolves into something much, much more.</td>\n",
       "      <td>1999</td>\n",
       "      <td>139 min</td>\n",
       "      <td>Brad Pitt, Edward Norton, Meat Loaf, Zach Grenier</td>\n",
       "      <td>8.8</td>\n",
       "      <td>English</td>\n",
       "      <td>[Drama]</td>\n",
       "    </tr>\n",
       "    <tr>\n",
       "      <td>4</td>\n",
       "      <td>Pulp Fiction</td>\n",
       "      <td>Crime, Drama</td>\n",
       "      <td>The lives of two mob hitmen, a boxer, a gangster and his wife, and a pair of diner bandits intertwine in four tales of violence and redemption.</td>\n",
       "      <td>1994</td>\n",
       "      <td>154 min</td>\n",
       "      <td>John Travolta, Uma Thurman, Samuel L. Jackson, Bruce Willis</td>\n",
       "      <td>8.9</td>\n",
       "      <td>English</td>\n",
       "      <td>[Crime, Drama]</td>\n",
       "    </tr>\n",
       "  </tbody>\n",
       "</table>\n",
       "</div>"
      ],
      "text/plain": [
       "                      Title                      Genre  \\\n",
       "0  The Shawshank Redemption                      Drama   \n",
       "1           The Dark Knight       Action, Crime, Drama   \n",
       "2                 Inception  Action, Adventure, Sci-Fi   \n",
       "3                Fight Club                      Drama   \n",
       "4              Pulp Fiction               Crime, Drama   \n",
       "\n",
       "                                                                                                                                                                                        Synopsis  \\\n",
       "0                                                                         Two imprisoned men bond over a number of years, finding solace and eventual redemption through acts of common decency.   \n",
       "1  When the menace known as the Joker wreaks havoc and chaos on the people of Gotham, Batman must accept one of the greatest psychological and physical tests of his ability to fight injustice.   \n",
       "2                                       A thief who steals corporate secrets through the use of dream-sharing technology is given the inverse task of planting an idea into the mind of a C.E.O.   \n",
       "3                                                          An insomniac office worker and a devil-may-care soapmaker form an underground fight club that evolves into something much, much more.   \n",
       "4                                                The lives of two mob hitmen, a boxer, a gangster and his wife, and a pair of diner bandits intertwine in four tales of violence and redemption.   \n",
       "\n",
       "   Year Duration  \\\n",
       "0  1994  142 min   \n",
       "1  2008  152 min   \n",
       "2  2010  148 min   \n",
       "3  1999  139 min   \n",
       "4  1994  154 min   \n",
       "\n",
       "                                                               Caste  Rating  \\\n",
       "0            Tim Robbins, Morgan Freeman, Bob Gunton, William Sadler     9.3   \n",
       "1         Christian Bale, Heath Ledger, Aaron Eckhart, Michael Caine     9.0   \n",
       "2  Leonardo DiCaprio, Joseph Gordon-Levitt, Ellen Page, Ken Watanabe     8.8   \n",
       "3                  Brad Pitt, Edward Norton, Meat Loaf, Zach Grenier     8.8   \n",
       "4        John Travolta, Uma Thurman, Samuel L. Jackson, Bruce Willis     8.9   \n",
       "\n",
       "  Language                    genre_new  \n",
       "0  English                      [Drama]  \n",
       "1  English       [Action, Crime, Drama]  \n",
       "2  English  [Action, Adventure, Sci-Fi]  \n",
       "3  English                      [Drama]  \n",
       "4  English               [Crime, Drama]  "
      ]
     },
     "execution_count": 13,
     "metadata": {},
     "output_type": "execute_result"
    }
   ],
   "source": [
    "# remove samples with 0 genre tags\n",
    "df_new = df[~(df['Genre'].str.len() == 0)]\n",
    "df_new.head()"
   ]
  },
  {
   "cell_type": "code",
   "execution_count": 14,
   "metadata": {},
   "outputs": [
    {
     "data": {
      "text/plain": [
       "((4641, 9), (4641, 9))"
      ]
     },
     "execution_count": 14,
     "metadata": {},
     "output_type": "execute_result"
    }
   ],
   "source": [
    "df_new.shape, df.shape"
   ]
  },
  {
   "cell_type": "code",
   "execution_count": 15,
   "metadata": {},
   "outputs": [],
   "source": [
    "#df.head()"
   ]
  },
  {
   "cell_type": "code",
   "execution_count": 16,
   "metadata": {},
   "outputs": [
    {
     "data": {
      "text/plain": [
       "19"
      ]
     },
     "execution_count": 16,
     "metadata": {},
     "output_type": "execute_result"
    }
   ],
   "source": [
    "# add to 'movies' dataframe  \n",
    "# sum(df['genre_new'],[])\n",
    "all_genres = sum(df['genre_new'],[])\n",
    "len(set(all_genres))\n",
    "#set(all_genres)"
   ]
  },
  {
   "cell_type": "code",
   "execution_count": 17,
   "metadata": {},
   "outputs": [
    {
     "data": {
      "text/html": [
       "<div>\n",
       "<style scoped>\n",
       "    .dataframe tbody tr th:only-of-type {\n",
       "        vertical-align: middle;\n",
       "    }\n",
       "\n",
       "    .dataframe tbody tr th {\n",
       "        vertical-align: top;\n",
       "    }\n",
       "\n",
       "    .dataframe thead th {\n",
       "        text-align: right;\n",
       "    }\n",
       "</style>\n",
       "<table border=\"1\" class=\"dataframe\">\n",
       "  <thead>\n",
       "    <tr style=\"text-align: right;\">\n",
       "      <th></th>\n",
       "      <th>Title</th>\n",
       "      <th>Genre</th>\n",
       "      <th>Synopsis</th>\n",
       "      <th>Year</th>\n",
       "      <th>Duration</th>\n",
       "      <th>Caste</th>\n",
       "      <th>Rating</th>\n",
       "      <th>Language</th>\n",
       "      <th>genre_new</th>\n",
       "    </tr>\n",
       "  </thead>\n",
       "  <tbody>\n",
       "    <tr>\n",
       "      <td>0</td>\n",
       "      <td>The Shawshank Redemption</td>\n",
       "      <td>Drama</td>\n",
       "      <td>Two imprisoned men bond over a number of years, finding solace and eventual redemption through acts of common decency.</td>\n",
       "      <td>1994</td>\n",
       "      <td>142 min</td>\n",
       "      <td>Tim Robbins, Morgan Freeman, Bob Gunton, William Sadler</td>\n",
       "      <td>9.3</td>\n",
       "      <td>English</td>\n",
       "      <td>[Drama]</td>\n",
       "    </tr>\n",
       "    <tr>\n",
       "      <td>1</td>\n",
       "      <td>The Dark Knight</td>\n",
       "      <td>Action, Crime, Drama</td>\n",
       "      <td>When the menace known as the Joker wreaks havoc and chaos on the people of Gotham, Batman must accept one of the greatest psychological and physical tests of his ability to fight injustice.</td>\n",
       "      <td>2008</td>\n",
       "      <td>152 min</td>\n",
       "      <td>Christian Bale, Heath Ledger, Aaron Eckhart, Michael Caine</td>\n",
       "      <td>9.0</td>\n",
       "      <td>English</td>\n",
       "      <td>[Action, Crime, Drama]</td>\n",
       "    </tr>\n",
       "    <tr>\n",
       "      <td>2</td>\n",
       "      <td>Inception</td>\n",
       "      <td>Action, Adventure, Sci-Fi</td>\n",
       "      <td>A thief who steals corporate secrets through the use of dream-sharing technology is given the inverse task of planting an idea into the mind of a C.E.O.</td>\n",
       "      <td>2010</td>\n",
       "      <td>148 min</td>\n",
       "      <td>Leonardo DiCaprio, Joseph Gordon-Levitt, Ellen Page, Ken Watanabe</td>\n",
       "      <td>8.8</td>\n",
       "      <td>English</td>\n",
       "      <td>[Action, Adventure, Sci-Fi]</td>\n",
       "    </tr>\n",
       "    <tr>\n",
       "      <td>3</td>\n",
       "      <td>Fight Club</td>\n",
       "      <td>Drama</td>\n",
       "      <td>An insomniac office worker and a devil-may-care soapmaker form an underground fight club that evolves into something much, much more.</td>\n",
       "      <td>1999</td>\n",
       "      <td>139 min</td>\n",
       "      <td>Brad Pitt, Edward Norton, Meat Loaf, Zach Grenier</td>\n",
       "      <td>8.8</td>\n",
       "      <td>English</td>\n",
       "      <td>[Drama]</td>\n",
       "    </tr>\n",
       "    <tr>\n",
       "      <td>4</td>\n",
       "      <td>Pulp Fiction</td>\n",
       "      <td>Crime, Drama</td>\n",
       "      <td>The lives of two mob hitmen, a boxer, a gangster and his wife, and a pair of diner bandits intertwine in four tales of violence and redemption.</td>\n",
       "      <td>1994</td>\n",
       "      <td>154 min</td>\n",
       "      <td>John Travolta, Uma Thurman, Samuel L. Jackson, Bruce Willis</td>\n",
       "      <td>8.9</td>\n",
       "      <td>English</td>\n",
       "      <td>[Crime, Drama]</td>\n",
       "    </tr>\n",
       "  </tbody>\n",
       "</table>\n",
       "</div>"
      ],
      "text/plain": [
       "                      Title                      Genre  \\\n",
       "0  The Shawshank Redemption                      Drama   \n",
       "1           The Dark Knight       Action, Crime, Drama   \n",
       "2                 Inception  Action, Adventure, Sci-Fi   \n",
       "3                Fight Club                      Drama   \n",
       "4              Pulp Fiction               Crime, Drama   \n",
       "\n",
       "                                                                                                                                                                                        Synopsis  \\\n",
       "0                                                                         Two imprisoned men bond over a number of years, finding solace and eventual redemption through acts of common decency.   \n",
       "1  When the menace known as the Joker wreaks havoc and chaos on the people of Gotham, Batman must accept one of the greatest psychological and physical tests of his ability to fight injustice.   \n",
       "2                                       A thief who steals corporate secrets through the use of dream-sharing technology is given the inverse task of planting an idea into the mind of a C.E.O.   \n",
       "3                                                          An insomniac office worker and a devil-may-care soapmaker form an underground fight club that evolves into something much, much more.   \n",
       "4                                                The lives of two mob hitmen, a boxer, a gangster and his wife, and a pair of diner bandits intertwine in four tales of violence and redemption.   \n",
       "\n",
       "   Year Duration  \\\n",
       "0  1994  142 min   \n",
       "1  2008  152 min   \n",
       "2  2010  148 min   \n",
       "3  1999  139 min   \n",
       "4  1994  154 min   \n",
       "\n",
       "                                                               Caste  Rating  \\\n",
       "0            Tim Robbins, Morgan Freeman, Bob Gunton, William Sadler     9.3   \n",
       "1         Christian Bale, Heath Ledger, Aaron Eckhart, Michael Caine     9.0   \n",
       "2  Leonardo DiCaprio, Joseph Gordon-Levitt, Ellen Page, Ken Watanabe     8.8   \n",
       "3                  Brad Pitt, Edward Norton, Meat Loaf, Zach Grenier     8.8   \n",
       "4        John Travolta, Uma Thurman, Samuel L. Jackson, Bruce Willis     8.9   \n",
       "\n",
       "  Language                    genre_new  \n",
       "0  English                      [Drama]  \n",
       "1  English       [Action, Crime, Drama]  \n",
       "2  English  [Action, Adventure, Sci-Fi]  \n",
       "3  English                      [Drama]  \n",
       "4  English               [Crime, Drama]  "
      ]
     },
     "execution_count": 17,
     "metadata": {},
     "output_type": "execute_result"
    }
   ],
   "source": [
    "df.head()"
   ]
  },
  {
   "cell_type": "code",
   "execution_count": 18,
   "metadata": {},
   "outputs": [
    {
     "data": {
      "text/plain": [
       "FreqDist({'Drama': 2513, 'Comedy': 1656, 'Action': 1244, 'Crime': 886, 'Thriller': 861, 'Adventure': 850, 'Romance': 812, 'Mystery': 458, 'Horror': 453, 'Fantasy': 383, ...})"
      ]
     },
     "execution_count": 18,
     "metadata": {},
     "output_type": "execute_result"
    }
   ],
   "source": [
    "all_genres = nltk.FreqDist(all_genres) \n",
    "all_genres"
   ]
  },
  {
   "cell_type": "code",
   "execution_count": 19,
   "metadata": {},
   "outputs": [
    {
     "data": {
      "text/html": [
       "<div>\n",
       "<style scoped>\n",
       "    .dataframe tbody tr th:only-of-type {\n",
       "        vertical-align: middle;\n",
       "    }\n",
       "\n",
       "    .dataframe tbody tr th {\n",
       "        vertical-align: top;\n",
       "    }\n",
       "\n",
       "    .dataframe thead th {\n",
       "        text-align: right;\n",
       "    }\n",
       "</style>\n",
       "<table border=\"1\" class=\"dataframe\">\n",
       "  <thead>\n",
       "    <tr style=\"text-align: right;\">\n",
       "      <th></th>\n",
       "      <th>Genre</th>\n",
       "      <th>Count</th>\n",
       "    </tr>\n",
       "  </thead>\n",
       "  <tbody>\n",
       "    <tr>\n",
       "      <td>0</td>\n",
       "      <td>Drama</td>\n",
       "      <td>2513</td>\n",
       "    </tr>\n",
       "    <tr>\n",
       "      <td>1</td>\n",
       "      <td>Action</td>\n",
       "      <td>1244</td>\n",
       "    </tr>\n",
       "    <tr>\n",
       "      <td>2</td>\n",
       "      <td>Crime</td>\n",
       "      <td>886</td>\n",
       "    </tr>\n",
       "    <tr>\n",
       "      <td>3</td>\n",
       "      <td>Adventure</td>\n",
       "      <td>850</td>\n",
       "    </tr>\n",
       "    <tr>\n",
       "      <td>4</td>\n",
       "      <td>Sci-Fi</td>\n",
       "      <td>379</td>\n",
       "    </tr>\n",
       "  </tbody>\n",
       "</table>\n",
       "</div>"
      ],
      "text/plain": [
       "       Genre  Count\n",
       "0      Drama   2513\n",
       "1     Action   1244\n",
       "2      Crime    886\n",
       "3  Adventure    850\n",
       "4     Sci-Fi    379"
      ]
     },
     "execution_count": 19,
     "metadata": {},
     "output_type": "execute_result"
    }
   ],
   "source": [
    "# create dataframe\n",
    "all_genres_df = pd.DataFrame({'Genre': list(all_genres.keys()),'Count': list(all_genres.values())})\n",
    "all_genres_df.head()"
   ]
  },
  {
   "cell_type": "code",
   "execution_count": 20,
   "metadata": {},
   "outputs": [
    {
     "data": {
      "image/png": "[encoded data removed]",
      "text/plain": [
       "<Figure size 864x1080 with 1 Axes>"
      ]
     },
     "metadata": {
      "needs_background": "light"
     },
     "output_type": "display_data"
    }
   ],
   "source": [
    "import seaborn as sns\n",
    "\n",
    "g = all_genres_df.nlargest(columns=\"Count\", n = 50) \n",
    "plt.figure(figsize=(12,15)) \n",
    "ax = sns.barplot(data=g, x= \"Count\", y = \"Genre\") \n",
    "ax.set(ylabel = 'Count') \n",
    "plt.show()"
   ]
  },
  {
   "cell_type": "code",
   "execution_count": 21,
   "metadata": {},
   "outputs": [],
   "source": [
    "def clean_text(text):\n",
    "    # remove backslash-apostrophe \n",
    "    text = re.sub(\"\\'\", \"\", text) \n",
    "    # remove everything except alphabets \n",
    "    text = re.sub(\"[^a-zA-Z]\",\" \",text) \n",
    "    # remove whitespaces \n",
    "    text = ' '.join(text.split()) \n",
    "    # convert text to lowercase \n",
    "    text = text.lower() \n",
    "    \n",
    "    return text"
   ]
  },
  {
   "cell_type": "code",
   "execution_count": 22,
   "metadata": {},
   "outputs": [],
   "source": [
    "#df['Synopsis_clean'] = df['Synopsis'].apply(clean_sentence)\n",
    "df_new['clean_Synopsis'] = df_new['Synopsis'].apply(lambda x: clean_text(x))"
   ]
  },
  {
   "cell_type": "code",
   "execution_count": 23,
   "metadata": {},
   "outputs": [
    {
     "data": {
      "text/html": [
       "<div>\n",
       "<style scoped>\n",
       "    .dataframe tbody tr th:only-of-type {\n",
       "        vertical-align: middle;\n",
       "    }\n",
       "\n",
       "    .dataframe tbody tr th {\n",
       "        vertical-align: top;\n",
       "    }\n",
       "\n",
       "    .dataframe thead th {\n",
       "        text-align: right;\n",
       "    }\n",
       "</style>\n",
       "<table border=\"1\" class=\"dataframe\">\n",
       "  <thead>\n",
       "    <tr style=\"text-align: right;\">\n",
       "      <th></th>\n",
       "      <th>Title</th>\n",
       "      <th>Genre</th>\n",
       "      <th>Synopsis</th>\n",
       "      <th>Year</th>\n",
       "      <th>Duration</th>\n",
       "      <th>Caste</th>\n",
       "      <th>Rating</th>\n",
       "      <th>Language</th>\n",
       "      <th>genre_new</th>\n",
       "      <th>clean_Synopsis</th>\n",
       "    </tr>\n",
       "  </thead>\n",
       "  <tbody>\n",
       "    <tr>\n",
       "      <td>0</td>\n",
       "      <td>The Shawshank Redemption</td>\n",
       "      <td>Drama</td>\n",
       "      <td>Two imprisoned men bond over a number of years, finding solace and eventual redemption through acts of common decency.</td>\n",
       "      <td>1994</td>\n",
       "      <td>142 min</td>\n",
       "      <td>Tim Robbins, Morgan Freeman, Bob Gunton, William Sadler</td>\n",
       "      <td>9.3</td>\n",
       "      <td>English</td>\n",
       "      <td>[Drama]</td>\n",
       "      <td>two imprisoned men bond over a number of years finding solace and eventual redemption through acts of common decency</td>\n",
       "    </tr>\n",
       "    <tr>\n",
       "      <td>1</td>\n",
       "      <td>The Dark Knight</td>\n",
       "      <td>Action, Crime, Drama</td>\n",
       "      <td>When the menace known as the Joker wreaks havoc and chaos on the people of Gotham, Batman must accept one of the greatest psychological and physical tests of his ability to fight injustice.</td>\n",
       "      <td>2008</td>\n",
       "      <td>152 min</td>\n",
       "      <td>Christian Bale, Heath Ledger, Aaron Eckhart, Michael Caine</td>\n",
       "      <td>9.0</td>\n",
       "      <td>English</td>\n",
       "      <td>[Action, Crime, Drama]</td>\n",
       "      <td>when the menace known as the joker wreaks havoc and chaos on the people of gotham batman must accept one of the greatest psychological and physical tests of his ability to fight injustice</td>\n",
       "    </tr>\n",
       "    <tr>\n",
       "      <td>2</td>\n",
       "      <td>Inception</td>\n",
       "      <td>Action, Adventure, Sci-Fi</td>\n",
       "      <td>A thief who steals corporate secrets through the use of dream-sharing technology is given the inverse task of planting an idea into the mind of a C.E.O.</td>\n",
       "      <td>2010</td>\n",
       "      <td>148 min</td>\n",
       "      <td>Leonardo DiCaprio, Joseph Gordon-Levitt, Ellen Page, Ken Watanabe</td>\n",
       "      <td>8.8</td>\n",
       "      <td>English</td>\n",
       "      <td>[Action, Adventure, Sci-Fi]</td>\n",
       "      <td>a thief who steals corporate secrets through the use of dream sharing technology is given the inverse task of planting an idea into the mind of a c e o</td>\n",
       "    </tr>\n",
       "    <tr>\n",
       "      <td>3</td>\n",
       "      <td>Fight Club</td>\n",
       "      <td>Drama</td>\n",
       "      <td>An insomniac office worker and a devil-may-care soapmaker form an underground fight club that evolves into something much, much more.</td>\n",
       "      <td>1999</td>\n",
       "      <td>139 min</td>\n",
       "      <td>Brad Pitt, Edward Norton, Meat Loaf, Zach Grenier</td>\n",
       "      <td>8.8</td>\n",
       "      <td>English</td>\n",
       "      <td>[Drama]</td>\n",
       "      <td>an insomniac office worker and a devil may care soapmaker form an underground fight club that evolves into something much much more</td>\n",
       "    </tr>\n",
       "    <tr>\n",
       "      <td>4</td>\n",
       "      <td>Pulp Fiction</td>\n",
       "      <td>Crime, Drama</td>\n",
       "      <td>The lives of two mob hitmen, a boxer, a gangster and his wife, and a pair of diner bandits intertwine in four tales of violence and redemption.</td>\n",
       "      <td>1994</td>\n",
       "      <td>154 min</td>\n",
       "      <td>John Travolta, Uma Thurman, Samuel L. Jackson, Bruce Willis</td>\n",
       "      <td>8.9</td>\n",
       "      <td>English</td>\n",
       "      <td>[Crime, Drama]</td>\n",
       "      <td>the lives of two mob hitmen a boxer a gangster and his wife and a pair of diner bandits intertwine in four tales of violence and redemption</td>\n",
       "    </tr>\n",
       "  </tbody>\n",
       "</table>\n",
       "</div>"
      ],
      "text/plain": [
       "                      Title                      Genre  \\\n",
       "0  The Shawshank Redemption                      Drama   \n",
       "1           The Dark Knight       Action, Crime, Drama   \n",
       "2                 Inception  Action, Adventure, Sci-Fi   \n",
       "3                Fight Club                      Drama   \n",
       "4              Pulp Fiction               Crime, Drama   \n",
       "\n",
       "                                                                                                                                                                                        Synopsis  \\\n",
       "0                                                                         Two imprisoned men bond over a number of years, finding solace and eventual redemption through acts of common decency.   \n",
       "1  When the menace known as the Joker wreaks havoc and chaos on the people of Gotham, Batman must accept one of the greatest psychological and physical tests of his ability to fight injustice.   \n",
       "2                                       A thief who steals corporate secrets through the use of dream-sharing technology is given the inverse task of planting an idea into the mind of a C.E.O.   \n",
       "3                                                          An insomniac office worker and a devil-may-care soapmaker form an underground fight club that evolves into something much, much more.   \n",
       "4                                                The lives of two mob hitmen, a boxer, a gangster and his wife, and a pair of diner bandits intertwine in four tales of violence and redemption.   \n",
       "\n",
       "   Year Duration  \\\n",
       "0  1994  142 min   \n",
       "1  2008  152 min   \n",
       "2  2010  148 min   \n",
       "3  1999  139 min   \n",
       "4  1994  154 min   \n",
       "\n",
       "                                                               Caste  Rating  \\\n",
       "0            Tim Robbins, Morgan Freeman, Bob Gunton, William Sadler     9.3   \n",
       "1         Christian Bale, Heath Ledger, Aaron Eckhart, Michael Caine     9.0   \n",
       "2  Leonardo DiCaprio, Joseph Gordon-Levitt, Ellen Page, Ken Watanabe     8.8   \n",
       "3                  Brad Pitt, Edward Norton, Meat Loaf, Zach Grenier     8.8   \n",
       "4        John Travolta, Uma Thurman, Samuel L. Jackson, Bruce Willis     8.9   \n",
       "\n",
       "  Language                    genre_new  \\\n",
       "0  English                      [Drama]   \n",
       "1  English       [Action, Crime, Drama]   \n",
       "2  English  [Action, Adventure, Sci-Fi]   \n",
       "3  English                      [Drama]   \n",
       "4  English               [Crime, Drama]   \n",
       "\n",
       "                                                                                                                                                                                clean_Synopsis  \n",
       "0                                                                         two imprisoned men bond over a number of years finding solace and eventual redemption through acts of common decency  \n",
       "1  when the menace known as the joker wreaks havoc and chaos on the people of gotham batman must accept one of the greatest psychological and physical tests of his ability to fight injustice  \n",
       "2                                      a thief who steals corporate secrets through the use of dream sharing technology is given the inverse task of planting an idea into the mind of a c e o  \n",
       "3                                                          an insomniac office worker and a devil may care soapmaker form an underground fight club that evolves into something much much more  \n",
       "4                                                  the lives of two mob hitmen a boxer a gangster and his wife and a pair of diner bandits intertwine in four tales of violence and redemption  "
      ]
     },
     "execution_count": 23,
     "metadata": {},
     "output_type": "execute_result"
    }
   ],
   "source": [
    "df_new.head()"
   ]
  },
  {
   "cell_type": "code",
   "execution_count": 24,
   "metadata": {},
   "outputs": [
    {
     "data": {
      "image/png": "[encoded data removed]",
      "text/plain": [
       "<Figure size 864x1080 with 1 Axes>"
      ]
     },
     "metadata": {
      "needs_background": "light"
     },
     "output_type": "display_data"
    }
   ],
   "source": [
    "def freq_words(x, terms = 30): \n",
    "    all_words = ' '.join([text for text in x]) \n",
    "    all_words = all_words.split() \n",
    "    fdist = nltk.FreqDist(all_words) \n",
    "    words_df = pd.DataFrame({'word':list(fdist.keys()), 'count':list(fdist.values())}) \n",
    "    \n",
    "    # selecting top 20 most frequent words \n",
    "    d = words_df.nlargest(columns=\"count\", n = terms) \n",
    "    \n",
    "    # visualize words and frequencies\n",
    "    plt.figure(figsize=(12,15)) \n",
    "    ax = sns.barplot(data=d, x= \"count\", y = \"word\") \n",
    "    ax.set(ylabel = 'Word') \n",
    "    plt.show()\n",
    "\n",
    "# print 100 most frequent words \n",
    "freq_words(df_new['clean_Synopsis'], 75)"
   ]
  },
  {
   "cell_type": "code",
   "execution_count": 25,
   "metadata": {},
   "outputs": [
    {
     "name": "stderr",
     "output_type": "stream",
     "text": [
      "[nltk_data] Downloading package stopwords to\n",
      "[nltk_data]     C:\\Users\\parsi\\AppData\\Roaming\\nltk_data...\n",
      "[nltk_data]   Package stopwords is already up-to-date!\n"
     ]
    },
    {
     "data": {
      "text/plain": [
       "True"
      ]
     },
     "execution_count": 25,
     "metadata": {},
     "output_type": "execute_result"
    }
   ],
   "source": [
    "nltk.download('stopwords')"
   ]
  },
  {
   "cell_type": "code",
   "execution_count": 26,
   "metadata": {},
   "outputs": [],
   "source": [
    "from nltk.corpus import stopwords\n",
    "stop_words = set(stopwords.words('english'))\n",
    "\n",
    "# function to remove stopwords\n",
    "def remove_stopwords(text):\n",
    "    no_stopword_text = [w for w in text.split() if not w in stop_words]\n",
    "    return ' '.join(no_stopword_text)\n",
    "\n",
    "df_new['clean_Synopsis'] = df_new['clean_Synopsis'].apply(lambda x: remove_stopwords(x))"
   ]
  },
  {
   "cell_type": "code",
   "execution_count": 27,
   "metadata": {},
   "outputs": [
    {
     "data": {
      "image/png": "[encoded data removed]",
      "text/plain": [
       "<Figure size 864x1080 with 1 Axes>"
      ]
     },
     "metadata": {
      "needs_background": "light"
     },
     "output_type": "display_data"
    }
   ],
   "source": [
    "freq_words(df_new['clean_Synopsis'], 100)"
   ]
  },
  {
   "cell_type": "markdown",
   "metadata": {},
   "source": [
    "### Converting Text to Features"
   ]
  },
  {
   "cell_type": "code",
   "execution_count": 28,
   "metadata": {},
   "outputs": [
    {
     "name": "stdout",
     "output_type": "stream",
     "text": [
      "['Action' 'Adventure' 'Animation' 'Biography' 'Comedy' 'Crime' 'Drama'\n",
      " 'Family' 'Fantasy' 'History' 'Horror' 'Musical' 'Mystery' 'Romance'\n",
      " 'Sci-Fi' 'Sport' 'Thriller' 'War' 'Western']\n"
     ]
    }
   ],
   "source": [
    "from sklearn.preprocessing import MultiLabelBinarizer\n",
    "\n",
    "multilabel_binarizer = MultiLabelBinarizer()\n",
    "multilabel_binarizer.fit(df_new['genre_new'])\n",
    "\n",
    "# transform target variable\n",
    "y = multilabel_binarizer.transform(df_new['genre_new'])\n",
    "print (multilabel_binarizer.classes_)"
   ]
  },
  {
   "cell_type": "code",
   "execution_count": 29,
   "metadata": {},
   "outputs": [
    {
     "data": {
      "text/html": [
       "<div>\n",
       "<style scoped>\n",
       "    .dataframe tbody tr th:only-of-type {\n",
       "        vertical-align: middle;\n",
       "    }\n",
       "\n",
       "    .dataframe tbody tr th {\n",
       "        vertical-align: top;\n",
       "    }\n",
       "\n",
       "    .dataframe thead th {\n",
       "        text-align: right;\n",
       "    }\n",
       "</style>\n",
       "<table border=\"1\" class=\"dataframe\">\n",
       "  <thead>\n",
       "    <tr style=\"text-align: right;\">\n",
       "      <th></th>\n",
       "      <th>Action</th>\n",
       "      <th>Adventure</th>\n",
       "      <th>Animation</th>\n",
       "      <th>Biography</th>\n",
       "      <th>Comedy</th>\n",
       "      <th>Crime</th>\n",
       "      <th>Drama</th>\n",
       "      <th>Family</th>\n",
       "      <th>Fantasy</th>\n",
       "      <th>History</th>\n",
       "      <th>Horror</th>\n",
       "      <th>Musical</th>\n",
       "      <th>Mystery</th>\n",
       "      <th>Romance</th>\n",
       "      <th>Sci-Fi</th>\n",
       "      <th>Sport</th>\n",
       "      <th>Thriller</th>\n",
       "      <th>War</th>\n",
       "      <th>Western</th>\n",
       "    </tr>\n",
       "  </thead>\n",
       "  <tbody>\n",
       "    <tr>\n",
       "      <td>0</td>\n",
       "      <td>0</td>\n",
       "      <td>0</td>\n",
       "      <td>0</td>\n",
       "      <td>0</td>\n",
       "      <td>0</td>\n",
       "      <td>0</td>\n",
       "      <td>1</td>\n",
       "      <td>0</td>\n",
       "      <td>0</td>\n",
       "      <td>0</td>\n",
       "      <td>0</td>\n",
       "      <td>0</td>\n",
       "      <td>0</td>\n",
       "      <td>0</td>\n",
       "      <td>0</td>\n",
       "      <td>0</td>\n",
       "      <td>0</td>\n",
       "      <td>0</td>\n",
       "      <td>0</td>\n",
       "    </tr>\n",
       "    <tr>\n",
       "      <td>1</td>\n",
       "      <td>1</td>\n",
       "      <td>0</td>\n",
       "      <td>0</td>\n",
       "      <td>0</td>\n",
       "      <td>0</td>\n",
       "      <td>1</td>\n",
       "      <td>1</td>\n",
       "      <td>0</td>\n",
       "      <td>0</td>\n",
       "      <td>0</td>\n",
       "      <td>0</td>\n",
       "      <td>0</td>\n",
       "      <td>0</td>\n",
       "      <td>0</td>\n",
       "      <td>0</td>\n",
       "      <td>0</td>\n",
       "      <td>0</td>\n",
       "      <td>0</td>\n",
       "      <td>0</td>\n",
       "    </tr>\n",
       "    <tr>\n",
       "      <td>2</td>\n",
       "      <td>1</td>\n",
       "      <td>1</td>\n",
       "      <td>0</td>\n",
       "      <td>0</td>\n",
       "      <td>0</td>\n",
       "      <td>0</td>\n",
       "      <td>0</td>\n",
       "      <td>0</td>\n",
       "      <td>0</td>\n",
       "      <td>0</td>\n",
       "      <td>0</td>\n",
       "      <td>0</td>\n",
       "      <td>0</td>\n",
       "      <td>0</td>\n",
       "      <td>1</td>\n",
       "      <td>0</td>\n",
       "      <td>0</td>\n",
       "      <td>0</td>\n",
       "      <td>0</td>\n",
       "    </tr>\n",
       "    <tr>\n",
       "      <td>3</td>\n",
       "      <td>0</td>\n",
       "      <td>0</td>\n",
       "      <td>0</td>\n",
       "      <td>0</td>\n",
       "      <td>0</td>\n",
       "      <td>0</td>\n",
       "      <td>1</td>\n",
       "      <td>0</td>\n",
       "      <td>0</td>\n",
       "      <td>0</td>\n",
       "      <td>0</td>\n",
       "      <td>0</td>\n",
       "      <td>0</td>\n",
       "      <td>0</td>\n",
       "      <td>0</td>\n",
       "      <td>0</td>\n",
       "      <td>0</td>\n",
       "      <td>0</td>\n",
       "      <td>0</td>\n",
       "    </tr>\n",
       "    <tr>\n",
       "      <td>4</td>\n",
       "      <td>0</td>\n",
       "      <td>0</td>\n",
       "      <td>0</td>\n",
       "      <td>0</td>\n",
       "      <td>0</td>\n",
       "      <td>1</td>\n",
       "      <td>1</td>\n",
       "      <td>0</td>\n",
       "      <td>0</td>\n",
       "      <td>0</td>\n",
       "      <td>0</td>\n",
       "      <td>0</td>\n",
       "      <td>0</td>\n",
       "      <td>0</td>\n",
       "      <td>0</td>\n",
       "      <td>0</td>\n",
       "      <td>0</td>\n",
       "      <td>0</td>\n",
       "      <td>0</td>\n",
       "    </tr>\n",
       "  </tbody>\n",
       "</table>\n",
       "</div>"
      ],
      "text/plain": [
       "   Action  Adventure  Animation  Biography  Comedy  Crime  Drama  Family  \\\n",
       "0       0          0          0          0       0      0      1       0   \n",
       "1       1          0          0          0       0      1      1       0   \n",
       "2       1          1          0          0       0      0      0       0   \n",
       "3       0          0          0          0       0      0      1       0   \n",
       "4       0          0          0          0       0      1      1       0   \n",
       "\n",
       "   Fantasy  History  Horror  Musical  Mystery  Romance  Sci-Fi  Sport  \\\n",
       "0        0        0       0        0        0        0       0      0   \n",
       "1        0        0       0        0        0        0       0      0   \n",
       "2        0        0       0        0        0        0       1      0   \n",
       "3        0        0       0        0        0        0       0      0   \n",
       "4        0        0       0        0        0        0       0      0   \n",
       "\n",
       "   Thriller  War  Western  \n",
       "0         0    0        0  \n",
       "1         0    0        0  \n",
       "2         0    0        0  \n",
       "3         0    0        0  \n",
       "4         0    0        0  "
      ]
     },
     "execution_count": 29,
     "metadata": {},
     "output_type": "execute_result"
    }
   ],
   "source": [
    "df_multilabel = pd.DataFrame(y,columns=multilabel_binarizer.classes_)\n",
    "df_multilabel.head()"
   ]
  },
  {
   "cell_type": "code",
   "execution_count": 30,
   "metadata": {},
   "outputs": [],
   "source": [
    "tfidf_vectorizer = TfidfVectorizer(max_df=0.8, max_features=10000)"
   ]
  },
  {
   "cell_type": "code",
   "execution_count": null,
   "metadata": {},
   "outputs": [],
   "source": []
  },
  {
   "cell_type": "markdown",
   "metadata": {},
   "source": [
    "### Splitting training and testing "
   ]
  },
  {
   "cell_type": "code",
   "execution_count": 31,
   "metadata": {},
   "outputs": [],
   "source": [
    "# split dataset into training and validation set\n",
    "xtrain, xval, ytrain, yval = train_test_split(df_new['clean_Synopsis'], y, test_size=0.2, random_state=10)"
   ]
  },
  {
   "cell_type": "code",
   "execution_count": 32,
   "metadata": {},
   "outputs": [
    {
     "name": "stdout",
     "output_type": "stream",
     "text": [
      "3712\n",
      "929\n"
     ]
    }
   ],
   "source": [
    "print (len(ytrain))\n",
    "print (len (yval))"
   ]
  },
  {
   "cell_type": "code",
   "execution_count": 33,
   "metadata": {},
   "outputs": [],
   "source": [
    "# create TF-IDF features \n",
    "xtrain_tfidf = tfidf_vectorizer.fit_transform(xtrain)\n",
    "xval_tfidf = tfidf_vectorizer.transform(xval)"
   ]
  },
  {
   "cell_type": "code",
   "execution_count": null,
   "metadata": {},
   "outputs": [],
   "source": []
  },
  {
   "cell_type": "markdown",
   "metadata": {},
   "source": [
    "# LOGISTIC REGRESSION"
   ]
  },
  {
   "cell_type": "code",
   "execution_count": 34,
   "metadata": {},
   "outputs": [],
   "source": [
    "from sklearn.linear_model import LogisticRegression\n",
    "\n",
    "# Binary Relevance\n",
    "from sklearn.multiclass import OneVsRestClassifier\n",
    "\n",
    "# Performance metric\n",
    "from sklearn.metrics import f1_score"
   ]
  },
  {
   "cell_type": "code",
   "execution_count": 35,
   "metadata": {},
   "outputs": [],
   "source": [
    "lr = LogisticRegression(penalty='l2', random_state=10,max_iter=1000,class_weight='balanced')\n",
    "clf_logistic = OneVsRestClassifier(lr)"
   ]
  },
  {
   "cell_type": "code",
   "execution_count": 36,
   "metadata": {},
   "outputs": [
    {
     "data": {
      "text/plain": [
       "OneVsRestClassifier(estimator=LogisticRegression(C=1.0, class_weight='balanced',\n",
       "                                                 dual=False, fit_intercept=True,\n",
       "                                                 intercept_scaling=1,\n",
       "                                                 l1_ratio=None, max_iter=1000,\n",
       "                                                 multi_class='auto',\n",
       "                                                 n_jobs=None, penalty='l2',\n",
       "                                                 random_state=10,\n",
       "                                                 solver='lbfgs', tol=0.0001,\n",
       "                                                 verbose=0, warm_start=False),\n",
       "                    n_jobs=None)"
      ]
     },
     "execution_count": 36,
     "metadata": {},
     "output_type": "execute_result"
    }
   ],
   "source": [
    "# fit model on train data\n",
    "clf_logistic.fit(xtrain_tfidf, ytrain)"
   ]
  },
  {
   "cell_type": "code",
   "execution_count": 37,
   "metadata": {},
   "outputs": [
    {
     "name": "stdout",
     "output_type": "stream",
     "text": [
      "(3712, 10000)\n",
      "(3712, 19)\n"
     ]
    }
   ],
   "source": [
    "print (xtrain_tfidf.shape)\n",
    "print (ytrain.shape)"
   ]
  },
  {
   "cell_type": "code",
   "execution_count": 38,
   "metadata": {},
   "outputs": [],
   "source": [
    "# make predictions for validation set\n",
    "y_pred_logistic = clf_logistic.predict(xval_tfidf)"
   ]
  },
  {
   "cell_type": "code",
   "execution_count": 39,
   "metadata": {},
   "outputs": [
    {
     "data": {
      "text/plain": [
       "array([0, 0, 0, 0, 1, 0, 0, 0, 0, 0, 0, 0, 0, 1, 0, 0, 0, 0, 0])"
      ]
     },
     "execution_count": 39,
     "metadata": {},
     "output_type": "execute_result"
    }
   ],
   "source": [
    "y_pred_logistic[23]"
   ]
  },
  {
   "cell_type": "code",
   "execution_count": 40,
   "metadata": {},
   "outputs": [
    {
     "data": {
      "text/plain": [
       "('Action', 'Comedy', 'Crime', 'Thriller')"
      ]
     },
     "execution_count": 40,
     "metadata": {},
     "output_type": "execute_result"
    }
   ],
   "source": [
    "multilabel_binarizer.inverse_transform(y_pred_logistic)[3]"
   ]
  },
  {
   "cell_type": "raw",
   "metadata": {},
   "source": [
    "# evaluate performance"
   ]
  },
  {
   "cell_type": "code",
   "execution_count": 41,
   "metadata": {},
   "outputs": [
    {
     "name": "stdout",
     "output_type": "stream",
     "text": [
      "F1 Score is:     0.5829909613804437\n",
      "The Accuracy is: 0.11194833153928956\n",
      "\n",
      "f beta score     0.5829909613804437\n",
      "Precison:        0.5689655172413793\n",
      "Recall:          0.5977253580454929\n"
     ]
    }
   ],
   "source": [
    "from sklearn.metrics import accuracy_score\n",
    "from sklearn.metrics import precision_recall_fscore_support\n",
    "print (\"F1 Score is:    \",f1_score(yval, y_pred_logistic, average=\"micro\"))\n",
    "print (\"The Accuracy is:\",accuracy_score(yval,y_pred_logistic))\n",
    "print ()\n",
    "p, r, f, s = precision_recall_fscore_support(yval, y_pred_logistic,average=\"micro\",warn_for=('precision', 'recall', 'f-score'))\n",
    "print (\"f beta score    \",f)\n",
    "print (\"Precison:       \",p)\n",
    "print (\"Recall:         \",r)"
   ]
  },
  {
   "cell_type": "raw",
   "metadata": {},
   "source": [
    "# predict probabilities"
   ]
  },
  {
   "cell_type": "code",
   "execution_count": 42,
   "metadata": {},
   "outputs": [],
   "source": [
    "y_pred_prob = clf_logistic.predict_proba(xval_tfidf)\n",
    "#y_pred_prob"
   ]
  },
  {
   "cell_type": "code",
   "execution_count": 43,
   "metadata": {},
   "outputs": [],
   "source": [
    "t = 0.5 # threshold value\n",
    "y_pred_new = (y_pred_prob >= t).astype(int)"
   ]
  },
  {
   "cell_type": "code",
   "execution_count": 44,
   "metadata": {},
   "outputs": [
    {
     "name": "stdout",
     "output_type": "stream",
     "text": [
      "y_pred_new F1 score:  0.5829909613804437\n"
     ]
    }
   ],
   "source": [
    "# evaluate performance\n",
    "print (\"y_pred_new F1 score: \",f1_score(yval, y_pred_new, average=\"micro\"))"
   ]
  },
  {
   "cell_type": "code",
   "execution_count": 45,
   "metadata": {},
   "outputs": [],
   "source": [
    "def infer_tags(q):\n",
    "    q = clean_text(q)\n",
    "    q = remove_stopwords(q)\n",
    "    q_vec = tfidf_vectorizer.transform([q])\n",
    "    q_pred = clf_logistic.predict(q_vec)\n",
    "    return multilabel_binarizer.inverse_transform(q_pred)"
   ]
  },
  {
   "cell_type": "code",
   "execution_count": 46,
   "metadata": {},
   "outputs": [
    {
     "name": "stdout",
     "output_type": "stream",
     "text": [
      "Movie:  The Messenger \n",
      "Predicted genre:  [('Action', 'Drama', 'History', 'War')]\n",
      "Actual genre:  Drama, Romance, War \n",
      "\n",
      "Movie:  V/H/S \n",
      "Predicted genre:  [('Comedy', 'Horror', 'Mystery', 'Thriller')]\n",
      "Actual genre:  Horror, Thriller \n",
      "\n",
      "Movie:  Fargo \n",
      "Predicted genre:  [('Crime', 'Drama', 'Thriller')]\n",
      "Actual genre:  Crime,Drama,Thriller \n",
      "\n",
      "Movie:  Rundskop \n",
      "Predicted genre:  [('Comedy',)]\n",
      "Actual genre:  Crime, Drama \n",
      "\n",
      "Movie:  The Way Way Back \n",
      "Predicted genre:  [('Comedy', 'Drama', 'Family', 'Romance')]\n",
      "Actual genre:  Comedy, Drama \n",
      "\n"
     ]
    }
   ],
   "source": [
    "for i in range(5): \n",
    "    k = xval.sample(1).index[0] \n",
    "    print(\"Movie: \", df['Title'][k], \"\\nPredicted genre: \", infer_tags(xval[k])), print(\"Actual genre: \",df['Genre'][k], \"\\n\")"
   ]
  },
  {
   "cell_type": "markdown",
   "metadata": {},
   "source": [
    "## Conclusion: "
   ]
  },
  {
   "cell_type": "markdown",
   "metadata": {},
   "source": [
    "## We are using logistic regression with One vs Rest method.As it is multilabel classification, penalty='l1' is not supported, So we have to used penalty 'l2' or 'None'. With the penalty 'l2', we found better model. We have imbalance classes in our dataset, so we have applied class_weight. After applying logistic regression, we found accuracy with 11% and F1 Score with 58% amd also we got Precison 56.8% and recall 59.7%. "
   ]
  },
  {
   "cell_type": "code",
   "execution_count": null,
   "metadata": {},
   "outputs": [],
   "source": []
  },
  {
   "cell_type": "markdown",
   "metadata": {},
   "source": [
    "# LogisticRegression with Cross Validation"
   ]
  },
  {
   "cell_type": "code",
   "execution_count": 47,
   "metadata": {},
   "outputs": [
    {
     "name": "stdout",
     "output_type": "stream",
     "text": [
      "Logistic: \n",
      "Acccuracy of Logistic is:  12.041813591049586\n"
     ]
    }
   ],
   "source": [
    "from sklearn.model_selection import cross_val_score\n",
    "print (\"Logistic: \")\n",
    "model1 = cross_val_score(clf_logistic,xtrain_tfidf, ytrain,scoring=\"accuracy\",cv=15)\n",
    "accuracy = model1.mean() * 100\n",
    "print (\"Acccuracy of Logistic is: \",accuracy)"
   ]
  },
  {
   "cell_type": "markdown",
   "metadata": {},
   "source": [
    "## Conclusion: "
   ]
  },
  {
   "cell_type": "markdown",
   "metadata": {},
   "source": [
    "## We tried to apply Cross validation on the previous Logistic model and we found 12.04% accuracy which is 1% more than previous model. "
   ]
  },
  {
   "cell_type": "code",
   "execution_count": null,
   "metadata": {},
   "outputs": [],
   "source": []
  },
  {
   "cell_type": "markdown",
   "metadata": {},
   "source": [
    "# DECISION TREE"
   ]
  },
  {
   "cell_type": "code",
   "execution_count": 48,
   "metadata": {},
   "outputs": [
    {
     "data": {
      "text/plain": [
       "DecisionTreeClassifier(ccp_alpha=0.0, class_weight=None, criterion='gini',\n",
       "                       max_depth=None, max_features=None, max_leaf_nodes=None,\n",
       "                       min_impurity_decrease=0.0, min_impurity_split=None,\n",
       "                       min_samples_leaf=1, min_samples_split=2,\n",
       "                       min_weight_fraction_leaf=0.0, presort='deprecated',\n",
       "                       random_state=10, splitter='random')"
      ]
     },
     "execution_count": 48,
     "metadata": {},
     "output_type": "execute_result"
    }
   ],
   "source": [
    "from sklearn.tree import DecisionTreeClassifier\n",
    "clf_decision_tree = DecisionTreeClassifier(criterion='gini',splitter='random',random_state=10)\n",
    "clf_decision_tree.fit(xtrain_tfidf,ytrain)"
   ]
  },
  {
   "cell_type": "code",
   "execution_count": 49,
   "metadata": {},
   "outputs": [],
   "source": [
    "# make predictions for validation set\n",
    "y_pred_decision_tree = clf_decision_tree.predict(xval_tfidf)"
   ]
  },
  {
   "cell_type": "code",
   "execution_count": 50,
   "metadata": {},
   "outputs": [
    {
     "data": {
      "text/plain": [
       "array([0, 0, 0, 0, 1, 0, 0, 0, 0, 0, 0, 0, 0, 0, 0, 0, 0, 0, 0])"
      ]
     },
     "execution_count": 50,
     "metadata": {},
     "output_type": "execute_result"
    }
   ],
   "source": [
    "y_pred_decision_tree[23]"
   ]
  },
  {
   "cell_type": "code",
   "execution_count": 51,
   "metadata": {},
   "outputs": [
    {
     "data": {
      "text/plain": [
       "('Action', 'Adventure', 'Sci-Fi')"
      ]
     },
     "execution_count": 51,
     "metadata": {},
     "output_type": "execute_result"
    }
   ],
   "source": [
    "multilabel_binarizer.inverse_transform(y_pred_decision_tree)[3]"
   ]
  },
  {
   "cell_type": "code",
   "execution_count": 52,
   "metadata": {},
   "outputs": [
    {
     "name": "stdout",
     "output_type": "stream",
     "text": [
      "The Accuracy is: 0.12378902045209902\n",
      "F1 score:        0.4676382340334334\n",
      "\n",
      "f beta score     0.4676382340334334\n",
      "Precison:        0.47600349040139617\n",
      "Recall:          0.45956192080876157\n"
     ]
    }
   ],
   "source": [
    "# evaluate performance\n",
    "from sklearn.metrics import accuracy_score\n",
    "print (\"The Accuracy is:\",accuracy_score(yval,y_pred_decision_tree))\n",
    "print (\"F1 score:       \",f1_score(yval, y_pred_decision_tree, average=\"micro\"))\n",
    "print ()\n",
    "p, r, f, s = precision_recall_fscore_support(yval, y_pred_decision_tree,average=\"micro\",warn_for=('precision', 'recall', 'f-score'))\n",
    "print (\"f beta score    \",f)\n",
    "print (\"Precison:       \",p)\n",
    "print (\"Recall:         \",r)"
   ]
  },
  {
   "cell_type": "raw",
   "metadata": {},
   "source": [
    "def infer_tags(q):\n",
    "    q = clean_text(q)\n",
    "    q = remove_stopwords(q)\n",
    "    q_vec = tfidf_vectorizer.transform([q])\n",
    "    q_pred = clf_decision_tree.predict(q_vec)\n",
    "    return multilabel_binarizer.inverse_transform(q_pred)"
   ]
  },
  {
   "cell_type": "raw",
   "metadata": {},
   "source": [
    "for i in range(5): \n",
    "    k = xval.sample(1).index[0] \n",
    "    print(\"Movie: \", df['Title'][k], \"\\nPredicted genre: \", infer_tags(xval[k])), print(\"Actual genre: \",df['Genre'][k], \"\\n\")"
   ]
  },
  {
   "cell_type": "markdown",
   "metadata": {},
   "source": [
    "## Conclusion:"
   ]
  },
  {
   "cell_type": "markdown",
   "metadata": {},
   "source": [
    "## After applying Logistic Regression, we tried Decision tree classifier. In which we have used gini criterion with random  splitter. From which we found same accuracy as Logistic Regression with Cross Validation 12%, but our f1 score falls slightly to 46.7%. Here we found 47.6% Precison while recall is 45.9%"
   ]
  },
  {
   "cell_type": "code",
   "execution_count": 53,
   "metadata": {},
   "outputs": [],
   "source": [
    "#!pip install scikit-multilearn"
   ]
  },
  {
   "cell_type": "markdown",
   "metadata": {},
   "source": [
    "## There are some specific methods to perform multilabel classification.            \n",
    "### 1) Problem Transformation                                                                                        \n",
    "### 2) Adaptated Algorithms"
   ]
  },
  {
   "cell_type": "markdown",
   "metadata": {},
   "source": [
    "# 1) Problem Transformation"
   ]
  },
  {
   "cell_type": "markdown",
   "metadata": {},
   "source": [
    "# USING BINARY RELEVANCE"
   ]
  },
  {
   "cell_type": "code",
   "execution_count": 54,
   "metadata": {},
   "outputs": [],
   "source": [
    "# using binary relevance\n",
    "from skmultilearn.problem_transform import BinaryRelevance\n",
    "from sklearn.naive_bayes import GaussianNB\n",
    "\n",
    "# initialize binary relevance multi-label classifier\n",
    "# with a gaussian naive bayes base classifier\n",
    "clf1 = BinaryRelevance(GaussianNB())\n",
    "\n",
    "# train\n",
    "y_pred1 = clf1.fit(xtrain_tfidf, ytrain)\n",
    "\n",
    "# predict\n",
    "predictions1 = clf1.predict(xval_tfidf)\n",
    "\n",
    "#print(y_pred1)\n",
    "#print(predictions1)"
   ]
  },
  {
   "cell_type": "code",
   "execution_count": 55,
   "metadata": {},
   "outputs": [
    {
     "name": "stdout",
     "output_type": "stream",
     "text": [
      "The Accuracy is: 0.09257265877287406\n",
      "The F1Score is:  0.42516921534219104\n",
      "\n",
      "f beta score     0.42516921534219104\n",
      "Precison:        0.525077399380805\n",
      "Recall:          0.35720303285593935\n"
     ]
    }
   ],
   "source": [
    "from sklearn.metrics import accuracy_score\n",
    "print(\"The Accuracy is:\",accuracy_score(yval,predictions1))\n",
    "# evaluate performance\n",
    "print(\"The F1Score is: \",f1_score(yval, predictions1,average=\"micro\"))\n",
    "print ()\n",
    "p, r, f, s = precision_recall_fscore_support(yval, predictions1,average=\"micro\",warn_for=('precision', 'recall', 'f-score'))\n",
    "print (\"f beta score    \",f)\n",
    "print (\"Precison:       \",p)\n",
    "print (\"Recall:         \",r)"
   ]
  },
  {
   "cell_type": "markdown",
   "metadata": {},
   "source": [
    "## Conclusion:"
   ]
  },
  {
   "cell_type": "markdown",
   "metadata": {},
   "source": [
    "## We are using BinaryRelevance from problem_transform. In which we are using naive_bayes base claassifier. From which we got 9.2% accuracy, 42.5% f1 score, 52.5% Precision and 35.7% Recall."
   ]
  },
  {
   "cell_type": "code",
   "execution_count": null,
   "metadata": {},
   "outputs": [],
   "source": []
  },
  {
   "cell_type": "markdown",
   "metadata": {},
   "source": [
    "# USING CLASSIFIER CHAINS"
   ]
  },
  {
   "cell_type": "code",
   "execution_count": 56,
   "metadata": {},
   "outputs": [],
   "source": [
    "from skmultilearn.problem_transform import ClassifierChain\n",
    "from sklearn.naive_bayes import GaussianNB\n",
    "\n",
    "# initialize classifier chains multi-label classifier\n",
    "# with a gaussian naive bayes base classifier\n",
    "clf2 = ClassifierChain(GaussianNB())\n",
    "\n",
    "# train\n",
    "y_pred2=clf2.fit(xtrain_tfidf, ytrain)\n",
    "\n",
    "# predict\n",
    "predictions2 = clf2.predict(xval_tfidf)"
   ]
  },
  {
   "cell_type": "code",
   "execution_count": 57,
   "metadata": {},
   "outputs": [
    {
     "name": "stdout",
     "output_type": "stream",
     "text": [
      "The Accuracy is: 0.09472551130247578\n",
      "The F1Score is:  0.42910915934755334\n",
      "\n",
      "f beta score     0.42910915934755334\n",
      "Precison:        0.5307262569832403\n",
      "Recall:          0.36015164279696715\n"
     ]
    }
   ],
   "source": [
    "print(\"The Accuracy is:\",accuracy_score(yval,predictions2))\n",
    "# evaluate performance\n",
    "print(\"The F1Score is: \",f1_score(yval, predictions2,average=\"micro\"))\n",
    "print ()\n",
    "p, r, f, s = precision_recall_fscore_support(yval, predictions2,average=\"micro\",warn_for=('precision', 'recall', 'f-score'))\n",
    "print (\"f beta score    \",f)\n",
    "print (\"Precison:       \",p)\n",
    "print (\"Recall:         \",r)"
   ]
  },
  {
   "cell_type": "markdown",
   "metadata": {},
   "source": [
    "## Conclusion:"
   ]
  },
  {
   "cell_type": "markdown",
   "metadata": {},
   "source": [
    "## We are using ClassifierChain from problem_transform with naive_bayes. From which we got 9.4% accuracy, 42.9% f1 score, 53% Precision and 36% Recall. Here we got almost same result as Binary relevance."
   ]
  },
  {
   "cell_type": "code",
   "execution_count": null,
   "metadata": {},
   "outputs": [],
   "source": []
  },
  {
   "cell_type": "markdown",
   "metadata": {},
   "source": [
    "# 2) USING LABEL POWERSET"
   ]
  },
  {
   "cell_type": "code",
   "execution_count": 58,
   "metadata": {},
   "outputs": [],
   "source": [
    "from skmultilearn.problem_transform import LabelPowerset\n",
    "from sklearn.naive_bayes import GaussianNB\n",
    "\n",
    "# initialize Label Powerset multi-label classifier\n",
    "# with a gaussian naive bayes base classifier\n",
    "clf3 = LabelPowerset(GaussianNB())\n",
    "\n",
    "# train\n",
    "clf3.fit(xtrain_tfidf, ytrain)\n",
    "\n",
    "# predict\n",
    "predictions3 = clf3.predict(xval_tfidf)"
   ]
  },
  {
   "cell_type": "code",
   "execution_count": 59,
   "metadata": {},
   "outputs": [
    {
     "name": "stdout",
     "output_type": "stream",
     "text": [
      "The Accuracy is: 0.17115177610333693\n",
      "The F1Score is:  0.521077792264233\n",
      "\n",
      "f beta score     0.521077792264233\n",
      "Precison:        0.5381508078994613\n",
      "Recall:          0.5050547598989048\n"
     ]
    }
   ],
   "source": [
    "print(\"The Accuracy is:\",accuracy_score(yval,predictions3))\n",
    "print(\"The F1Score is: \",f1_score(yval, predictions3,average=\"micro\"))\n",
    "print ()\n",
    "p, r, f, s = precision_recall_fscore_support(yval, predictions3,average=\"micro\",warn_for=('precision', 'recall', 'f-score'))\n",
    "print (\"f beta score    \",f)\n",
    "print (\"Precison:       \",p)\n",
    "print (\"Recall:         \",r)"
   ]
  },
  {
   "cell_type": "markdown",
   "metadata": {},
   "source": [
    "## Conclusion:"
   ]
  },
  {
   "cell_type": "markdown",
   "metadata": {},
   "source": [
    "## We are using here another class Label Powerset from problem_transform with naive_bayes. From which we got 17% accuracy, 52% f1 score, 53.8% Precision and 50.5% Recall. Among all the methods we used from problem_transform, Label Powerset provides the best result. Even we got the highest accuracy(17.1%) among all the classification method."
   ]
  },
  {
   "cell_type": "code",
   "execution_count": null,
   "metadata": {},
   "outputs": [],
   "source": []
  },
  {
   "cell_type": "markdown",
   "metadata": {},
   "source": [
    "# ADAPTED ALGORITHM"
   ]
  },
  {
   "cell_type": "code",
   "execution_count": 60,
   "metadata": {},
   "outputs": [],
   "source": [
    "from skmultilearn.adapt import MLkNN\n",
    "\n",
    "classifier1 = MLkNN(k=20)\n",
    "\n",
    "# train\n",
    "classifier1.fit(xtrain_tfidf, ytrain)\n",
    "\n",
    "# predict\n",
    "predictions = classifier1.predict(xval_tfidf)"
   ]
  },
  {
   "cell_type": "code",
   "execution_count": 61,
   "metadata": {},
   "outputs": [
    {
     "name": "stdout",
     "output_type": "stream",
     "text": [
      "The Accuracy is: 0.08934337997847147\n",
      "The F1Score is:  0.48275862068965525\n",
      "\n",
      "f beta score     0.48275862068965525\n",
      "Precison:        0.6277815239379636\n",
      "Recall:          0.3921651221566976\n"
     ]
    }
   ],
   "source": [
    "print(\"The Accuracy is:\",accuracy_score(yval,predictions))\n",
    "print(\"The F1Score is: \",f1_score(yval, predictions,average=\"micro\"))\n",
    "print ()\n",
    "p, r, f, s = precision_recall_fscore_support(yval, predictions,average=\"micro\",warn_for=('precision', 'recall', 'f-score'))\n",
    "print (\"f beta score    \",f)\n",
    "print (\"Precison:       \",p)\n",
    "print (\"Recall:         \",r)"
   ]
  },
  {
   "cell_type": "markdown",
   "metadata": {},
   "source": [
    "## Conclusion:"
   ]
  },
  {
   "cell_type": "markdown",
   "metadata": {},
   "source": [
    "## We are using another method called Adapted Algorithm which basically will perform Multiple K Nearest Neighbour algorithm. From which we got 8.9% accuracy, 48.2% f1 score, 62.7% Precision and 39.2% Recall."
   ]
  },
  {
   "cell_type": "code",
   "execution_count": null,
   "metadata": {},
   "outputs": [],
   "source": []
  },
  {
   "cell_type": "markdown",
   "metadata": {},
   "source": [
    "## Final Conclusion:"
   ]
  },
  {
   "cell_type": "markdown",
   "metadata": {},
   "source": [
    "## We have applied different approaches using different methods. Here we got maximum accuracy from label powerset with 17%, but we can not consider it in multilabel classification.  So we will evaluate our model with macro and micro F1 Score, Precision and Recall. We got maximum F1 score from Logistic Regression with One vs Rest method with 58%. So we got best model from Logistic Regression with One vs Rest method."
   ]
  },
  {
   "cell_type": "code",
   "execution_count": null,
   "metadata": {},
   "outputs": [],
   "source": []
  }
 ],
 "metadata": {
  "kernelspec": {
   "display_name": "Python 3",
   "language": "python",
   "name": "python3"
  },
  "language_info": {
   "codemirror_mode": {
    "name": "ipython",
    "version": 3
   },
   "file_extension": ".py",
   "mimetype": "text/x-python",
   "name": "python",
   "nbconvert_exporter": "python",
   "pygments_lexer": "ipython3",
   "version": "3.7.4"
  }
 },
 "nbformat": 4,
 "nbformat_minor": 2
}
